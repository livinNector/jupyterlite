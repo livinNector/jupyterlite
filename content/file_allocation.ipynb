{
 "cells": [
  {
   "cell_type": "code",
   "execution_count": 6,
   "metadata": {},
   "outputs": [],
   "source": [
    "import numpy as np\n",
    "import pandas as pd\n",
    "\n",
    "\n",
    "def add_files_to_fat(files, fat_table):\n",
    "    for _, (file_start, file_size) in files[[\"start\",\"size\"]].iterrows():\n",
    "        curr_idx = file_start\n",
    "        for i in range(file_size-1):\n",
    "            next_idx  = np.random.choice(np.argwhere(fat_table==0).ravel())\n",
    "            fat_table[curr_idx] = next_idx\n",
    "            curr_idx = next_idx\n",
    "        fat_table[curr_idx] = -1\n",
    "    \n",
    "\n",
    "def show_fat_table(fat_table, entries_per_row = 4):\n",
    "    '''Print a 1D Fat table as a 2d Table'''\n",
    "    fat_table = fat_table.reshape(-1, entries_per_row)\n",
    "    for i in range(fat_table.shape[0]):\n",
    "        print(f\"{i*4:3}| {('{:4}'*entries_per_row).format(*fat_table[i])}\")\n",
    "        \n",
    "\n",
    "def get_blocks(start, fat_table):\n",
    "    curr_idx = start\n",
    "    blocks  = []\n",
    "    while curr_idx != -1:\n",
    "        blocks.append(curr_idx)\n",
    "        curr_idx = fat_table[curr_idx]\n",
    "    return blocks\n"
   ]
  },
  {
   "cell_type": "code",
   "execution_count": 8,
   "metadata": {},
   "outputs": [
    {
     "name": "stdout",
     "output_type": "stream",
     "text": [
      "Consider the below files and starting blocks and the corresponding FAT table given below.\n"
     ]
    },
    {
     "data": {
      "text/html": [
       "<div>\n",
       "<style scoped>\n",
       "    .dataframe tbody tr th:only-of-type {\n",
       "        vertical-align: middle;\n",
       "    }\n",
       "\n",
       "    .dataframe tbody tr th {\n",
       "        vertical-align: top;\n",
       "    }\n",
       "\n",
       "    .dataframe thead th {\n",
       "        text-align: right;\n",
       "    }\n",
       "</style>\n",
       "<table border=\"1\" class=\"dataframe\">\n",
       "  <thead>\n",
       "    <tr style=\"text-align: right;\">\n",
       "      <th></th>\n",
       "      <th>start</th>\n",
       "    </tr>\n",
       "    <tr>\n",
       "      <th>name</th>\n",
       "      <th></th>\n",
       "    </tr>\n",
       "  </thead>\n",
       "  <tbody>\n",
       "    <tr>\n",
       "      <th>foo</th>\n",
       "      <td>1</td>\n",
       "    </tr>\n",
       "    <tr>\n",
       "      <th>moo</th>\n",
       "      <td>2</td>\n",
       "    </tr>\n",
       "    <tr>\n",
       "      <th>bar</th>\n",
       "      <td>7</td>\n",
       "    </tr>\n",
       "    <tr>\n",
       "      <th>snow</th>\n",
       "      <td>14</td>\n",
       "    </tr>\n",
       "  </tbody>\n",
       "</table>\n",
       "</div>"
      ],
      "text/plain": [
       "      start\n",
       "name       \n",
       "foo       1\n",
       "moo       2\n",
       "bar       7\n",
       "snow     14"
      ]
     },
     "metadata": {},
     "output_type": "display_data"
    },
    {
     "name": "stdout",
     "output_type": "stream",
     "text": [
      "FAT Table:\n",
      "  0|    9   5  -1   0\n",
      "  4|   11  14   0   4\n",
      "  8|    0  -1   0  -1\n",
      " 12|    0   0   0   0\n",
      "What is the number of blocks allocated for the file bar?\n"
     ]
    },
    {
     "data": {
      "text/html": [
       "\n",
       "<details>\n",
       "    <summary>Show Answer</summary>\n",
       "    <p >\n",
       "    File size:3, File blocks: [7, 4, 11]\n",
       "  </p>\n",
       "</details>\n"
      ],
      "text/plain": [
       "<IPython.core.display.HTML object>"
      ]
     },
     "metadata": {},
     "output_type": "display_data"
    }
   ],
   "source": [
    "fat_table_size = 16\n",
    "n_files = 4\n",
    "file_names = [\"foo\",\"moo\",\"bar\",\"snow\",\"fall\"][:n_files]\n",
    "file_starts = np.random.choice(fat_table_size, n_files, replace = False)\n",
    "file_sizes = np.random.choice(np.arange(1,(fat_table_size//n_files)), n_files)\n",
    "files = pd.DataFrame([\n",
    "    {\"name\":file_name, \"start\":file_start ,\"size\": file_size}\n",
    "    for file_name, file_start, file_size in zip(file_names, file_starts, file_sizes)\n",
    "]).set_index(\"name\")\n",
    "\n",
    "fat_table = np.zeros(fat_table_size,dtype=int)\n",
    "add_files_to_fat(files, fat_table)\n",
    "\n",
    "file_name = np.random.choice(file_names)\n",
    "file_size = files[\"size\"][file_name]\n",
    "file_blocks = get_blocks(files[\"start\"][file_name],fat_table)\n",
    "\n",
    "print(\"Consider the below files and starting blocks and the corresponding FAT table given below.\")\n",
    "display(files[[\"start\"]])\n",
    "print(\"FAT Table:\")\n",
    "show_fat_table(fat_table)\n",
    "print(f\"What is the number of blocks allocated for the file {file_name}?\")\n",
    "\n",
    "from quiz_utils import collapsible\n",
    "from IPython.display import HTML\n",
    "display(HTML(collapsible(f\"File size:{file_size}, File blocks: {file_blocks}\")))\n",
    "\n"
   ]
  },
  {
   "cell_type": "code",
   "execution_count": null,
   "metadata": {},
   "outputs": [],
   "source": []
  }
 ],
 "metadata": {
  "kernelspec": {
   "display_name": "Python 3",
   "language": "python",
   "name": "python3"
  },
  "language_info": {
   "codemirror_mode": {
    "name": "ipython",
    "version": 3
   },
   "file_extension": ".py",
   "mimetype": "text/x-python",
   "name": "python",
   "nbconvert_exporter": "python",
   "pygments_lexer": "ipython3",
   "version": "3.12.0"
  }
 },
 "nbformat": 4,
 "nbformat_minor": 2
}
